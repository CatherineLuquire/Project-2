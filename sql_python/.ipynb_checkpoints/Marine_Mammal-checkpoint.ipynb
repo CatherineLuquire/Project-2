{
 "cells": [
  {
   "cell_type": "code",
   "execution_count": 1,
   "metadata": {},
   "outputs": [],
   "source": [
    "# Import SQLAlchemy and other dependencies here\n",
    "import sqlalchemy\n",
    "from sqlalchemy.orm import Session\n",
    "from sqlalchemy import create_engine, inspect, func\n",
    "from sqlalchemy import Column, Float, Integer, String, Date\n",
    "from sqlalchemy.ext.declarative import declarative_base\n",
    "Base = declarative_base()\n",
    "\n",
    "import pandas as pd\n",
    "import numpy as np\n",
    "\n"
   ]
  },
  {
   "cell_type": "code",
   "execution_count": 2,
   "metadata": {},
   "outputs": [],
   "source": [
    "# MatPlotLib/NumPy/SciPy\n",
    "%matplotlib inline\n",
    "from matplotlib import pyplot as plt\n",
    "import numpy as np\n",
    "import scipy.stats as stats"
   ]
  },
  {
   "cell_type": "code",
   "execution_count": 3,
   "metadata": {},
   "outputs": [],
   "source": [
    "engine = create_engine('postgresql://postgres:9807775984@Bd@localhost:5432/marineMammals')\n",
    "connection = engine.connect()"
   ]
  },
  {
   "cell_type": "code",
   "execution_count": 4,
   "metadata": {},
   "outputs": [],
   "source": [
    "# Create the inspector and connect it to the engine\n",
    "inspector = inspect(engine)"
   ]
  },
  {
   "cell_type": "code",
   "execution_count": 5,
   "metadata": {},
   "outputs": [
    {
     "data": {
      "text/plain": [
       "['marine_mammal']"
      ]
     },
     "execution_count": 5,
     "metadata": {},
     "output_type": "execute_result"
    }
   ],
   "source": [
    "# Collect the names of tables within the database\n",
    "inspector.get_table_names()"
   ]
  },
  {
   "cell_type": "code",
   "execution_count": 6,
   "metadata": {},
   "outputs": [
    {
     "name": "stdout",
     "output_type": "stream",
     "text": [
      "id VARCHAR(100)\n",
      "species VARCHAR(65)\n",
      "quantity NUMERIC\n",
      "description VARCHAR(500)\n",
      "url VARCHAR(200)\n",
      "latitude NUMERIC\n",
      "longitude NUMERIC\n",
      "location VARCHAR\n",
      "sighted_at DATE\n",
      "created_at DATE\n",
      "updated_at DATE\n",
      "orca_type VARCHAR\n",
      "orca_pod VARCHAR\n"
     ]
    }
   ],
   "source": [
    "\n",
    "# Using the inspector to print the column names within the 'marine_mammal' table and its types\n",
    "columns = inspector.get_columns('marine_mammal')\n",
    "for column in columns:\n",
    "    print(column[\"name\"], column[\"type\"])"
   ]
  },
  {
   "cell_type": "code",
   "execution_count": 7,
   "metadata": {},
   "outputs": [],
   "source": [
    "#create marine_mammal class\n",
    "class marine_mammal(Base):\n",
    "    __tablename__ = 'marine_mammal'\n",
    "    \n",
    "    id = Column (String, primary_key=True)\n",
    "    species = Column (String)\n",
    "    quantity = Column (Integer)\n",
    "    description = Column (String)\n",
    "    url = Column (String)\n",
    "    latitude = Column (Float)\n",
    "    longitude = Column (Float)\n",
    "    location = Column (String)\n",
    "    sighted_at = Column (Date)\n",
    "    created_at = Column (Date)\n",
    "    updated_at = Column (Date)\n",
    "    orca_type = Column (String)\n",
    "    orca_pod = Column (String)"
   ]
  },
  {
   "cell_type": "code",
   "execution_count": 8,
   "metadata": {},
   "outputs": [],
   "source": [
    "session = Session(engine)"
   ]
  },
  {
   "cell_type": "code",
   "execution_count": 9,
   "metadata": {},
   "outputs": [],
   "source": [
    "marine_mammal_data = pd.read_sql(\"select * from marine_mammal\", connection)"
   ]
  },
  {
   "cell_type": "code",
   "execution_count": 10,
   "metadata": {},
   "outputs": [
    {
     "data": {
      "text/html": [
       "<div>\n",
       "<style scoped>\n",
       "    .dataframe tbody tr th:only-of-type {\n",
       "        vertical-align: middle;\n",
       "    }\n",
       "\n",
       "    .dataframe tbody tr th {\n",
       "        vertical-align: top;\n",
       "    }\n",
       "\n",
       "    .dataframe thead th {\n",
       "        text-align: right;\n",
       "    }\n",
       "</style>\n",
       "<table border=\"1\" class=\"dataframe\">\n",
       "  <thead>\n",
       "    <tr style=\"text-align: right;\">\n",
       "      <th></th>\n",
       "      <th>id</th>\n",
       "      <th>species</th>\n",
       "      <th>quantity</th>\n",
       "      <th>description</th>\n",
       "      <th>url</th>\n",
       "      <th>latitude</th>\n",
       "      <th>longitude</th>\n",
       "      <th>location</th>\n",
       "      <th>sighted_at</th>\n",
       "      <th>created_at</th>\n",
       "      <th>updated_at</th>\n",
       "      <th>orca_type</th>\n",
       "      <th>orca_pod</th>\n",
       "    </tr>\n",
       "  </thead>\n",
       "  <tbody>\n",
       "    <tr>\n",
       "      <th>0</th>\n",
       "      <td>5a049b7e686f743ec5040000</td>\n",
       "      <td>orca</td>\n",
       "      <td>5.0</td>\n",
       "      <td>Spotted from the Edmonds-Kingston ferry, near ...</td>\n",
       "      <td>http://hotline.whalemuseum.org/sightings/5a049...</td>\n",
       "      <td>47.799530</td>\n",
       "      <td>-122.479967</td>\n",
       "      <td>None</td>\n",
       "      <td>2017-11-09</td>\n",
       "      <td>2017-11-09</td>\n",
       "      <td>2017-11-14</td>\n",
       "      <td>unknown</td>\n",
       "      <td>None</td>\n",
       "    </tr>\n",
       "    <tr>\n",
       "      <th>1</th>\n",
       "      <td>59d039a0686f743ec5020000</td>\n",
       "      <td>harbor porpoise</td>\n",
       "      <td>20.0</td>\n",
       "      <td>From the Inn at Langley looking east there was...</td>\n",
       "      <td>http://hotline.whalemuseum.org/sightings/59d03...</td>\n",
       "      <td>48.047448</td>\n",
       "      <td>-122.404776</td>\n",
       "      <td>Camano Island, WA, US</td>\n",
       "      <td>2017-10-01</td>\n",
       "      <td>2017-10-01</td>\n",
       "      <td>2017-10-03</td>\n",
       "      <td>unknown</td>\n",
       "      <td>None</td>\n",
       "    </tr>\n",
       "    <tr>\n",
       "      <th>2</th>\n",
       "      <td>59ab6d65686f747484140000</td>\n",
       "      <td>humpback</td>\n",
       "      <td>1.0</td>\n",
       "      <td>heading north in the Tacoma narrows,, between ...</td>\n",
       "      <td>http://hotline.whalemuseum.org/sightings/59ab6...</td>\n",
       "      <td>47.307289</td>\n",
       "      <td>-122.561674</td>\n",
       "      <td>Gig Harbor, WA, US</td>\n",
       "      <td>2017-09-03</td>\n",
       "      <td>2017-09-03</td>\n",
       "      <td>2017-09-06</td>\n",
       "      <td>unknown</td>\n",
       "      <td>None</td>\n",
       "    </tr>\n",
       "  </tbody>\n",
       "</table>\n",
       "</div>"
      ],
      "text/plain": [
       "                         id          species  quantity  \\\n",
       "0  5a049b7e686f743ec5040000             orca       5.0   \n",
       "1  59d039a0686f743ec5020000  harbor porpoise      20.0   \n",
       "2  59ab6d65686f747484140000         humpback       1.0   \n",
       "\n",
       "                                         description  \\\n",
       "0  Spotted from the Edmonds-Kingston ferry, near ...   \n",
       "1  From the Inn at Langley looking east there was...   \n",
       "2  heading north in the Tacoma narrows,, between ...   \n",
       "\n",
       "                                                 url   latitude   longitude  \\\n",
       "0  http://hotline.whalemuseum.org/sightings/5a049...  47.799530 -122.479967   \n",
       "1  http://hotline.whalemuseum.org/sightings/59d03...  48.047448 -122.404776   \n",
       "2  http://hotline.whalemuseum.org/sightings/59ab6...  47.307289 -122.561674   \n",
       "\n",
       "                location  sighted_at  created_at  updated_at orca_type  \\\n",
       "0                   None  2017-11-09  2017-11-09  2017-11-14   unknown   \n",
       "1  Camano Island, WA, US  2017-10-01  2017-10-01  2017-10-03   unknown   \n",
       "2     Gig Harbor, WA, US  2017-09-03  2017-09-03  2017-09-06   unknown   \n",
       "\n",
       "  orca_pod  \n",
       "0     None  \n",
       "1     None  \n",
       "2     None  "
      ]
     },
     "execution_count": 10,
     "metadata": {},
     "output_type": "execute_result"
    }
   ],
   "source": [
    "marine_mammal_data.head(3)"
   ]
  },
  {
   "cell_type": "code",
   "execution_count": 11,
   "metadata": {},
   "outputs": [
    {
     "name": "stderr",
     "output_type": "stream",
     "text": [
      "'c' argument looks like a single numeric RGB or RGBA sequence, which should be avoided as value-mapping will have precedence in case its length matches with 'x' & 'y'.  Please use a 2-D array with a single row if you really want to specify the same RGB or RGBA value for all points.\n"
     ]
    },
    {
     "data": {
      "image/png": "[encoded data removed]",
      "text/plain": [
       "<Figure size 432x288 with 1 Axes>"
      ]
     },
     "metadata": {
      "needs_background": "light"
     },
     "output_type": "display_data"
    }
   ],
   "source": [
    "# Create data\n",
    "df = pd.DataFrame (marine_mammal_data, columns = ['latitude','longitude'])\n",
    "x = df.index.tolist()\n",
    "y = df['longitude'].tolist()\n",
    "colors = (0,0,0)\n",
    "area = np.pi*3\n",
    "\n",
    "# Plot\n",
    "plt.scatter(x, y, s=area, c=colors, alpha=0.5)\n",
    "plt.title('Sighting location')\n",
    "plt.xlabel('x')\n",
    "plt.ylabel('y')\n",
    "plt.show()"
   ]
  },
  {
   "cell_type": "code",
   "execution_count": 12,
   "metadata": {},
   "outputs": [],
   "source": [
    "df1 = pd.DataFrame (marine_mammal_data, columns = ['location','species'])\n"
   ]
  },
  {
   "cell_type": "code",
   "execution_count": 13,
   "metadata": {},
   "outputs": [
    {
     "data": {
      "text/html": [
       "<div>\n",
       "<style scoped>\n",
       "    .dataframe tbody tr th:only-of-type {\n",
       "        vertical-align: middle;\n",
       "    }\n",
       "\n",
       "    .dataframe tbody tr th {\n",
       "        vertical-align: top;\n",
       "    }\n",
       "\n",
       "    .dataframe thead th {\n",
       "        text-align: right;\n",
       "    }\n",
       "</style>\n",
       "<table border=\"1\" class=\"dataframe\">\n",
       "  <thead>\n",
       "    <tr style=\"text-align: right;\">\n",
       "      <th></th>\n",
       "      <th>Signted_Qty</th>\n",
       "    </tr>\n",
       "    <tr>\n",
       "      <th>location</th>\n",
       "      <th></th>\n",
       "    </tr>\n",
       "  </thead>\n",
       "  <tbody>\n",
       "    <tr>\n",
       "      <th>Allyn-Grapeview, WA, US</th>\n",
       "      <td>1</td>\n",
       "    </tr>\n",
       "    <tr>\n",
       "      <th>Anacortes, WA, US</th>\n",
       "      <td>1</td>\n",
       "    </tr>\n",
       "    <tr>\n",
       "      <th>Bainbridge Island, WA, US</th>\n",
       "      <td>6</td>\n",
       "    </tr>\n",
       "    <tr>\n",
       "      <th>Blakely Island, WA, US</th>\n",
       "      <td>1</td>\n",
       "    </tr>\n",
       "    <tr>\n",
       "      <th>Burien, WA, US</th>\n",
       "      <td>1</td>\n",
       "    </tr>\n",
       "    <tr>\n",
       "      <th>Camano Island, WA, US</th>\n",
       "      <td>1</td>\n",
       "    </tr>\n",
       "    <tr>\n",
       "      <th>Capital, BC, CA</th>\n",
       "      <td>1</td>\n",
       "    </tr>\n",
       "    <tr>\n",
       "      <th>Coupeville, WA, US</th>\n",
       "      <td>1</td>\n",
       "    </tr>\n",
       "    <tr>\n",
       "      <th>Delta, BC, CA</th>\n",
       "      <td>12</td>\n",
       "    </tr>\n",
       "    <tr>\n",
       "      <th>Duncan, BC, CA</th>\n",
       "      <td>1</td>\n",
       "    </tr>\n",
       "    <tr>\n",
       "      <th>Eastsound, WA, US</th>\n",
       "      <td>4</td>\n",
       "    </tr>\n",
       "    <tr>\n",
       "      <th>Edmonds, WA, US</th>\n",
       "      <td>1</td>\n",
       "    </tr>\n",
       "    <tr>\n",
       "      <th>Friday Harbor, WA, US</th>\n",
       "      <td>596</td>\n",
       "    </tr>\n",
       "    <tr>\n",
       "      <th>Gabriola, BC, CA</th>\n",
       "      <td>3</td>\n",
       "    </tr>\n",
       "    <tr>\n",
       "      <th>Galiano Island, BC, CA</th>\n",
       "      <td>6</td>\n",
       "    </tr>\n",
       "    <tr>\n",
       "      <th>Garden Bay, BC, CA</th>\n",
       "      <td>1</td>\n",
       "    </tr>\n",
       "    <tr>\n",
       "      <th>Gig Harbor, WA, US</th>\n",
       "      <td>1</td>\n",
       "    </tr>\n",
       "    <tr>\n",
       "      <th>Juan de Fuca, BC, CA</th>\n",
       "      <td>30</td>\n",
       "    </tr>\n",
       "    <tr>\n",
       "      <th>Kingston, WA, US</th>\n",
       "      <td>3</td>\n",
       "    </tr>\n",
       "    <tr>\n",
       "      <th>Lopez Island, WA, US</th>\n",
       "      <td>1</td>\n",
       "    </tr>\n",
       "    <tr>\n",
       "      <th>Mayne Island, BC, CA</th>\n",
       "      <td>17</td>\n",
       "    </tr>\n",
       "    <tr>\n",
       "      <th>Mount Waddington A, BC, CA</th>\n",
       "      <td>3</td>\n",
       "    </tr>\n",
       "    <tr>\n",
       "      <th>Nanaimo, BC, CA</th>\n",
       "      <td>1</td>\n",
       "    </tr>\n",
       "    <tr>\n",
       "      <th>North Saanich, BC, CA</th>\n",
       "      <td>1</td>\n",
       "    </tr>\n",
       "    <tr>\n",
       "      <th>Olga, WA, US</th>\n",
       "      <td>1</td>\n",
       "    </tr>\n",
       "    <tr>\n",
       "      <th>Pender Island, BC, CA</th>\n",
       "      <td>33</td>\n",
       "    </tr>\n",
       "    <tr>\n",
       "      <th>Point Roberts, WA, US</th>\n",
       "      <td>5</td>\n",
       "    </tr>\n",
       "    <tr>\n",
       "      <th>Port Angeles, WA, US</th>\n",
       "      <td>5</td>\n",
       "    </tr>\n",
       "    <tr>\n",
       "      <th>Port Renfrew, BC, CA</th>\n",
       "      <td>12</td>\n",
       "    </tr>\n",
       "    <tr>\n",
       "      <th>Richmond, BC, CA</th>\n",
       "      <td>2</td>\n",
       "    </tr>\n",
       "    <tr>\n",
       "      <th>Saturna, BC, CA</th>\n",
       "      <td>36</td>\n",
       "    </tr>\n",
       "    <tr>\n",
       "      <th>Seattle, WA, US</th>\n",
       "      <td>10</td>\n",
       "    </tr>\n",
       "    <tr>\n",
       "      <th>Sequim, WA, US</th>\n",
       "      <td>1</td>\n",
       "    </tr>\n",
       "    <tr>\n",
       "      <th>Shirley, BC, CA</th>\n",
       "      <td>7</td>\n",
       "    </tr>\n",
       "    <tr>\n",
       "      <th>Sidney, BC, CA</th>\n",
       "      <td>1</td>\n",
       "    </tr>\n",
       "    <tr>\n",
       "      <th>Sooke, BC, CA</th>\n",
       "      <td>29</td>\n",
       "    </tr>\n",
       "    <tr>\n",
       "      <th>Southern Gulf Islands, BC, CA</th>\n",
       "      <td>1</td>\n",
       "    </tr>\n",
       "    <tr>\n",
       "      <th>Steilacoom, WA, US</th>\n",
       "      <td>1</td>\n",
       "    </tr>\n",
       "    <tr>\n",
       "      <th>Vancouver, BC, CA</th>\n",
       "      <td>1</td>\n",
       "    </tr>\n",
       "    <tr>\n",
       "      <th>Vashon, WA, US</th>\n",
       "      <td>4</td>\n",
       "    </tr>\n",
       "    <tr>\n",
       "      <th>Victoria, BC, CA</th>\n",
       "      <td>18</td>\n",
       "    </tr>\n",
       "    <tr>\n",
       "      <th>West Vancouver, BC, CA</th>\n",
       "      <td>2</td>\n",
       "    </tr>\n",
       "  </tbody>\n",
       "</table>\n",
       "</div>"
      ],
      "text/plain": [
       "                               Signted_Qty\n",
       "location                                  \n",
       "Allyn-Grapeview, WA, US                  1\n",
       "Anacortes, WA, US                        1\n",
       "Bainbridge Island, WA, US                6\n",
       "Blakely Island, WA, US                   1\n",
       "Burien, WA, US                           1\n",
       "Camano Island, WA, US                    1\n",
       "Capital, BC, CA                          1\n",
       "Coupeville, WA, US                       1\n",
       "Delta, BC, CA                           12\n",
       "Duncan, BC, CA                           1\n",
       "Eastsound, WA, US                        4\n",
       "Edmonds, WA, US                          1\n",
       "Friday Harbor, WA, US                  596\n",
       "Gabriola, BC, CA                         3\n",
       "Galiano Island, BC, CA                   6\n",
       "Garden Bay, BC, CA                       1\n",
       "Gig Harbor, WA, US                       1\n",
       "Juan de Fuca, BC, CA                    30\n",
       "Kingston, WA, US                         3\n",
       "Lopez Island, WA, US                     1\n",
       "Mayne Island, BC, CA                    17\n",
       "Mount Waddington A, BC, CA               3\n",
       "Nanaimo, BC, CA                          1\n",
       "North Saanich, BC, CA                    1\n",
       "Olga, WA, US                             1\n",
       "Pender Island, BC, CA                   33\n",
       "Point Roberts, WA, US                    5\n",
       "Port Angeles, WA, US                     5\n",
       "Port Renfrew, BC, CA                    12\n",
       "Richmond, BC, CA                         2\n",
       "Saturna, BC, CA                         36\n",
       "Seattle, WA, US                         10\n",
       "Sequim, WA, US                           1\n",
       "Shirley, BC, CA                          7\n",
       "Sidney, BC, CA                           1\n",
       "Sooke, BC, CA                           29\n",
       "Southern Gulf Islands, BC, CA            1\n",
       "Steilacoom, WA, US                       1\n",
       "Vancouver, BC, CA                        1\n",
       "Vashon, WA, US                           4\n",
       "Victoria, BC, CA                        18\n",
       "West Vancouver, BC, CA                   2"
      ]
     },
     "execution_count": 13,
     "metadata": {},
     "output_type": "execute_result"
    }
   ],
   "source": [
    "df2=df1.groupby('location').count()\n",
    "df2 = df2.rename(columns = {'species':'Signted_Qty'},inplace = False)\n",
    "df2"
   ]
  },
  {
   "cell_type": "code",
   "execution_count": 14,
   "metadata": {},
   "outputs": [
    {
     "data": {
      "text/html": [
       "<div>\n",
       "<style scoped>\n",
       "    .dataframe tbody tr th:only-of-type {\n",
       "        vertical-align: middle;\n",
       "    }\n",
       "\n",
       "    .dataframe tbody tr th {\n",
       "        vertical-align: top;\n",
       "    }\n",
       "\n",
       "    .dataframe thead th {\n",
       "        text-align: right;\n",
       "    }\n",
       "</style>\n",
       "<table border=\"1\" class=\"dataframe\">\n",
       "  <thead>\n",
       "    <tr style=\"text-align: right;\">\n",
       "      <th></th>\n",
       "      <th>Signted_Qty</th>\n",
       "    </tr>\n",
       "    <tr>\n",
       "      <th>location</th>\n",
       "      <th></th>\n",
       "    </tr>\n",
       "  </thead>\n",
       "  <tbody>\n",
       "    <tr>\n",
       "      <th>Friday Harbor, WA, US</th>\n",
       "      <td>596</td>\n",
       "    </tr>\n",
       "    <tr>\n",
       "      <th>Saturna, BC, CA</th>\n",
       "      <td>36</td>\n",
       "    </tr>\n",
       "    <tr>\n",
       "      <th>Pender Island, BC, CA</th>\n",
       "      <td>33</td>\n",
       "    </tr>\n",
       "    <tr>\n",
       "      <th>Juan de Fuca, BC, CA</th>\n",
       "      <td>30</td>\n",
       "    </tr>\n",
       "    <tr>\n",
       "      <th>Sooke, BC, CA</th>\n",
       "      <td>29</td>\n",
       "    </tr>\n",
       "    <tr>\n",
       "      <th>Victoria, BC, CA</th>\n",
       "      <td>18</td>\n",
       "    </tr>\n",
       "    <tr>\n",
       "      <th>Mayne Island, BC, CA</th>\n",
       "      <td>17</td>\n",
       "    </tr>\n",
       "    <tr>\n",
       "      <th>Port Renfrew, BC, CA</th>\n",
       "      <td>12</td>\n",
       "    </tr>\n",
       "    <tr>\n",
       "      <th>Delta, BC, CA</th>\n",
       "      <td>12</td>\n",
       "    </tr>\n",
       "    <tr>\n",
       "      <th>Seattle, WA, US</th>\n",
       "      <td>10</td>\n",
       "    </tr>\n",
       "  </tbody>\n",
       "</table>\n",
       "</div>"
      ],
      "text/plain": [
       "                       Signted_Qty\n",
       "location                          \n",
       "Friday Harbor, WA, US          596\n",
       "Saturna, BC, CA                 36\n",
       "Pender Island, BC, CA           33\n",
       "Juan de Fuca, BC, CA            30\n",
       "Sooke, BC, CA                   29\n",
       "Victoria, BC, CA                18\n",
       "Mayne Island, BC, CA            17\n",
       "Port Renfrew, BC, CA            12\n",
       "Delta, BC, CA                   12\n",
       "Seattle, WA, US                 10"
      ]
     },
     "execution_count": 14,
     "metadata": {},
     "output_type": "execute_result"
    }
   ],
   "source": [
    "df2.sort_values(by=['Signted_Qty'], inplace=True, ascending=False)\n",
    "df2=df2.head(10)\n",
    "\n",
    "df2"
   ]
  },
  {
   "cell_type": "code",
   "execution_count": 15,
   "metadata": {},
   "outputs": [
    {
     "name": "stdout",
     "output_type": "stream",
     "text": [
      "['Friday Harbor, WA, US', 'Saturna, BC, CA', 'Pender Island, BC, CA', 'Juan de Fuca, BC, CA', 'Sooke, BC, CA', 'Victoria, BC, CA', 'Mayne Island, BC, CA', 'Port Renfrew, BC, CA', 'Delta, BC, CA', 'Seattle, WA, US']\n",
      "[596, 36, 33, 30, 29, 18, 17, 12, 12, 10]\n"
     ]
    }
   ],
   "source": [
    "location = df2.index.tolist()\n",
    "quantity=df2['Signted_Qty'].tolist() \n",
    "print(location)\n",
    "print(quantity)"
   ]
  },
  {
   "cell_type": "code",
   "execution_count": 16,
   "metadata": {},
   "outputs": [
    {
     "data": {
      "image/png": "[encoded data removed]",
      "text/plain": [
       "<Figure size 720x360 with 1 Axes>"
      ]
     },
     "metadata": {
      "needs_background": "light"
     },
     "output_type": "display_data"
    },
    {
     "data": {
      "text/plain": [
       "<Figure size 432x288 with 0 Axes>"
      ]
     },
     "metadata": {},
     "output_type": "display_data"
    }
   ],
   "source": [
    "\n",
    "#BAr Plot For Top 10 Sighting location\n",
    "\n",
    "fig = plt.figure(figsize=(10,5),)\n",
    "ax = fig.add_axes([0,0,1,1])\n",
    "x = location\n",
    "y = quantity \n",
    "ax.barh(x,y)\n",
    "plt.xticks(rotation=90,fontsize=15)\n",
    "plt.yticks(rotation=0,fontsize=15)\n",
    "plt.title('Top 10 Sighting locations',size=15)\n",
    "\n",
    "plt.show()\n",
    "plt.savefig('Top_10_Sighting_locations.jpg')"
   ]
  },
  {
   "cell_type": "code",
   "execution_count": 17,
   "metadata": {},
   "outputs": [
    {
     "data": {
      "text/html": [
       "<div>\n",
       "<style scoped>\n",
       "    .dataframe tbody tr th:only-of-type {\n",
       "        vertical-align: middle;\n",
       "    }\n",
       "\n",
       "    .dataframe tbody tr th {\n",
       "        vertical-align: top;\n",
       "    }\n",
       "\n",
       "    .dataframe thead th {\n",
       "        text-align: right;\n",
       "    }\n",
       "</style>\n",
       "<table border=\"1\" class=\"dataframe\">\n",
       "  <thead>\n",
       "    <tr style=\"text-align: right;\">\n",
       "      <th></th>\n",
       "      <th>Signted_Qty</th>\n",
       "    </tr>\n",
       "    <tr>\n",
       "      <th>species</th>\n",
       "      <th></th>\n",
       "    </tr>\n",
       "  </thead>\n",
       "  <tbody>\n",
       "    <tr>\n",
       "      <th>gray whale</th>\n",
       "      <td>1</td>\n",
       "    </tr>\n",
       "    <tr>\n",
       "      <th>harbor porpoise</th>\n",
       "      <td>1</td>\n",
       "    </tr>\n",
       "    <tr>\n",
       "      <th>humpback</th>\n",
       "      <td>3</td>\n",
       "    </tr>\n",
       "    <tr>\n",
       "      <th>orca</th>\n",
       "      <td>858</td>\n",
       "    </tr>\n",
       "  </tbody>\n",
       "</table>\n",
       "</div>"
      ],
      "text/plain": [
       "                 Signted_Qty\n",
       "species                     \n",
       "gray whale                 1\n",
       "harbor porpoise            1\n",
       "humpback                   3\n",
       "orca                     858"
      ]
     },
     "execution_count": 17,
     "metadata": {},
     "output_type": "execute_result"
    }
   ],
   "source": [
    "df3=df1.groupby('species').count()\n",
    "species=df3.index.tolist()\n",
    "Quantity=df3['location'].tolist() \n",
    "df3 = df3.rename(columns = {'location':'Signted_Qty'},inplace = False)\n",
    "df3"
   ]
  },
  {
   "cell_type": "code",
   "execution_count": 18,
   "metadata": {},
   "outputs": [
    {
     "data": {
      "image/png": "[encoded data removed]",
      "text/plain": [
       "<Figure size 1080x576 with 1 Axes>"
      ]
     },
     "metadata": {
      "needs_background": "light"
     },
     "output_type": "display_data"
    },
    {
     "data": {
      "text/plain": [
       "<Figure size 432x288 with 0 Axes>"
      ]
     },
     "metadata": {},
     "output_type": "display_data"
    }
   ],
   "source": [
    "fig = plt.figure(figsize=(15,8))\n",
    "ax = fig.add_axes([0,0,1,1])\n",
    "x = species\n",
    "y = Quantity\n",
    "ax.bar(x,y)\n",
    "plt.title('Species Count',size=25)\n",
    "plt.xticks(rotation=0,fontsize=18)\n",
    "plt.yticks(rotation=0,fontsize=18)\n",
    "plt.show()\n",
    "plt.savefig('species Count.png')"
   ]
  },
  {
   "cell_type": "code",
   "execution_count": 33,
   "metadata": {},
   "outputs": [
    {
     "data": {
      "text/html": [
       "<div>\n",
       "<style scoped>\n",
       "    .dataframe tbody tr th:only-of-type {\n",
       "        vertical-align: middle;\n",
       "    }\n",
       "\n",
       "    .dataframe tbody tr th {\n",
       "        vertical-align: top;\n",
       "    }\n",
       "\n",
       "    .dataframe thead th {\n",
       "        text-align: right;\n",
       "    }\n",
       "</style>\n",
       "<table border=\"1\" class=\"dataframe\">\n",
       "  <thead>\n",
       "    <tr style=\"text-align: right;\">\n",
       "      <th></th>\n",
       "      <th>sighted_at</th>\n",
       "      <th>counter</th>\n",
       "    </tr>\n",
       "  </thead>\n",
       "  <tbody>\n",
       "    <tr>\n",
       "      <th>0</th>\n",
       "      <td>2017-11-09</td>\n",
       "      <td>1</td>\n",
       "    </tr>\n",
       "    <tr>\n",
       "      <th>1</th>\n",
       "      <td>2017-10-01</td>\n",
       "      <td>1</td>\n",
       "    </tr>\n",
       "    <tr>\n",
       "      <th>2</th>\n",
       "      <td>2017-09-03</td>\n",
       "      <td>1</td>\n",
       "    </tr>\n",
       "    <tr>\n",
       "      <th>3</th>\n",
       "      <td>2017-07-29</td>\n",
       "      <td>1</td>\n",
       "    </tr>\n",
       "    <tr>\n",
       "      <th>4</th>\n",
       "      <td>2017-07-16</td>\n",
       "      <td>1</td>\n",
       "    </tr>\n",
       "    <tr>\n",
       "      <th>...</th>\n",
       "      <td>...</td>\n",
       "      <td>...</td>\n",
       "    </tr>\n",
       "    <tr>\n",
       "      <th>995</th>\n",
       "      <td>2015-09-03</td>\n",
       "      <td>1</td>\n",
       "    </tr>\n",
       "    <tr>\n",
       "      <th>996</th>\n",
       "      <td>2015-09-03</td>\n",
       "      <td>1</td>\n",
       "    </tr>\n",
       "    <tr>\n",
       "      <th>997</th>\n",
       "      <td>2015-09-02</td>\n",
       "      <td>1</td>\n",
       "    </tr>\n",
       "    <tr>\n",
       "      <th>998</th>\n",
       "      <td>2015-09-02</td>\n",
       "      <td>1</td>\n",
       "    </tr>\n",
       "    <tr>\n",
       "      <th>999</th>\n",
       "      <td>2015-09-02</td>\n",
       "      <td>1</td>\n",
       "    </tr>\n",
       "  </tbody>\n",
       "</table>\n",
       "<p>1000 rows × 2 columns</p>\n",
       "</div>"
      ],
      "text/plain": [
       "     sighted_at counter\n",
       "0    2017-11-09       1\n",
       "1    2017-10-01       1\n",
       "2    2017-09-03       1\n",
       "3    2017-07-29       1\n",
       "4    2017-07-16       1\n",
       "..          ...     ...\n",
       "995  2015-09-03       1\n",
       "996  2015-09-03       1\n",
       "997  2015-09-02       1\n",
       "998  2015-09-02       1\n",
       "999  2015-09-02       1\n",
       "\n",
       "[1000 rows x 2 columns]"
      ]
     },
     "execution_count": 33,
     "metadata": {},
     "output_type": "execute_result"
    }
   ],
   "source": [
    "df4 = pd.DataFrame (marine_mammal_data, columns = ['sighted_at'])\n",
    "df4['counter'] = '1'\n",
    "\n",
    "df4"
   ]
  },
  {
   "cell_type": "code",
   "execution_count": null,
   "metadata": {},
   "outputs": [],
   "source": [
    "db5=frame.set_index(\"sighted_at\").groupby(pd.Grouper(freq='M')).count()\n",
    "db5"
   ]
  },
  {
   "cell_type": "code",
   "execution_count": 34,
   "metadata": {},
   "outputs": [],
   "source": [
    "\n",
    "df['YearMonth'] = pd.to_datetime(df['sighted_at']).map(lambda dt: dt.replace(day=1))\n",
    "\n",
    "#res = df['YearMonth'].value_counts()"
   ]
  },
  {
   "cell_type": "code",
   "execution_count": 35,
   "metadata": {},
   "outputs": [
    {
     "data": {
      "image/png": "[encoded data removed]",
      "text/plain": [
       "<Figure size 1080x576 with 1 Axes>"
      ]
     },
     "metadata": {
      "needs_background": "light"
     },
     "output_type": "display_data"
    },
    {
     "data": {
      "text/plain": [
       "<Figure size 432x288 with 0 Axes>"
      ]
     },
     "metadata": {},
     "output_type": "display_data"
    }
   ],
   "source": [
    "fig = plt.figure(figsize=(15,8))\n",
    "ax = fig.add_axes([0,0,1,1])\n",
    "x = df4['sighted_at'].tolist() \n",
    "y = df4['counter'].tolist() \n",
    "ax.bar(x,y)\n",
    "plt.title('Species Count',size=25)\n",
    "plt.xticks(rotation=0,fontsize=18)\n",
    "plt.yticks(rotation=0,fontsize=18)\n",
    "plt.show()\n",
    "plt.savefig('')"
   ]
  },
  {
   "cell_type": "code",
   "execution_count": null,
   "metadata": {},
   "outputs": [],
   "source": []
  },
  {
   "cell_type": "code",
   "execution_count": null,
   "metadata": {},
   "outputs": [],
   "source": []
  }
 ],
 "metadata": {
  "kernelspec": {
   "display_name": "Python 3",
   "language": "python",
   "name": "python3"
  },
  "language_info": {
   "codemirror_mode": {
    "name": "ipython",
    "version": 3
   },
   "file_extension": ".py",
   "mimetype": "text/x-python",
   "name": "python",
   "nbconvert_exporter": "python",
   "pygments_lexer": "ipython3",
   "version": "3.7.6"
  }
 },
 "nbformat": 4,
 "nbformat_minor": 4
}
