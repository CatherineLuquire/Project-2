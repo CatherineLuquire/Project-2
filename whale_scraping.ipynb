{
 "cells": [
  {
   "cell_type": "code",
   "execution_count": 1,
   "metadata": {},
   "outputs": [],
   "source": [
    "# dependencies \n",
    "from bs4 import BeautifulSoup\n",
    "import requests\n",
    "import pymongo\n",
    "from splinter import Browser\n",
    "from selenium import webdriver\n",
    "import time \n",
    "\n"
   ]
  },
  {
   "cell_type": "code",
   "execution_count": 2,
   "metadata": {},
   "outputs": [
    {
     "name": "stdout",
     "output_type": "stream",
     "text": [
      "/usr/local/bin/chromedriver\r\n"
     ]
    }
   ],
   "source": [
    "!which chromedriver"
   ]
  },
  {
   "cell_type": "code",
   "execution_count": 3,
   "metadata": {},
   "outputs": [],
   "source": [
    "executable_path = {'executable_path': '/usr/local/bin/chromedriver'}\n",
    "browser = Browser('chrome', **executable_path, headless=False)"
   ]
  },
  {
   "cell_type": "code",
   "execution_count": 4,
   "metadata": {},
   "outputs": [],
   "source": [
    "# url = 'https://www.whaleresearch.com/wow5?lightbox=dataItem-k8g15bgi'\n",
    "# browser.visit(url)"
   ]
  },
  {
   "cell_type": "code",
   "execution_count": 5,
   "metadata": {},
   "outputs": [],
   "source": [
    "# # html object\n",
    "# html = browser.html\n",
    "# # parse html with beautiful soup\n",
    "# soup = BeautifulSoup(html, 'html.parser')\n"
   ]
  },
  {
   "cell_type": "code",
   "execution_count": 6,
   "metadata": {},
   "outputs": [],
   "source": [
    "urls = ['https://www.whaleresearch.com/wow5?lightbox=dataItem-k8g15bgi',\n",
    "        'https://www.whaleresearch.com/wow5?lightbox=dataItem-k8g15bg1',\n",
    "        'https://www.whaleresearch.com/wow5?lightbox=dataItem-k8g15bge1',\n",
    "        'https://www.whaleresearch.com/wow4?lightbox=dataItem-k8g0r4ox',\n",
    "        'https://www.whaleresearch.com/wow3?lightbox=dataItem-k8d5gcmq',\n",
    "        'https://www.whaleresearch.com/wow3?lightbox=dataItem-k8d5gcmk',\n",
    "        'https://www.whaleresearch.com/wow3?lightbox=dataItem-k8d5gcmo1'\n",
    "       ]"
   ]
  },
  {
   "cell_type": "code",
   "execution_count": 7,
   "metadata": {},
   "outputs": [
    {
     "name": "stdout",
     "output_type": "stream",
     "text": [
      "7\n"
     ]
    }
   ],
   "source": [
    "print(len(urls))"
   ]
  },
  {
   "cell_type": "code",
   "execution_count": 8,
   "metadata": {},
   "outputs": [
    {
     "name": "stdout",
     "output_type": "stream",
     "text": [
      "https://static.wixstatic.com/media/760f65_a247ca8c7d6f41b58052690aeac1d850~mv2.jpg/v1/fill/w_683,h_455,al_c,q_90,usm_0.66_1.00_0.01/760f65_a247ca8c7d6f41b58052690aeac1d850~mv2.webp\n",
      "[{'url': 'https://static.wixstatic.com/media/760f65_a247ca8c7d6f41b58052690aeac1d850~mv2.jpg/v1/fill/w_683,h_455,al_c,q_90,usm_0.66_1.00_0.01/760f65_a247ca8c7d6f41b58052690aeac1d850~mv2.webp', 'caption': 'K22'}]\n",
      "https://static.wixstatic.com/media/760f65_aa13d9fb8bcb4481a1da66473486716d~mv2.jpg/v1/fill/w_875,h_455,al_c,q_90,usm_0.66_1.00_0.01/760f65_aa13d9fb8bcb4481a1da66473486716d~mv2.webp\n",
      "[{'url': 'https://static.wixstatic.com/media/760f65_a247ca8c7d6f41b58052690aeac1d850~mv2.jpg/v1/fill/w_683,h_455,al_c,q_90,usm_0.66_1.00_0.01/760f65_a247ca8c7d6f41b58052690aeac1d850~mv2.webp', 'caption': 'K22'}, {'url': 'https://static.wixstatic.com/media/760f65_aa13d9fb8bcb4481a1da66473486716d~mv2.jpg/v1/fill/w_875,h_455,al_c,q_90,usm_0.66_1.00_0.01/760f65_aa13d9fb8bcb4481a1da66473486716d~mv2.webp', 'caption': 'K43'}]\n",
      "https://static.wixstatic.com/media/760f65_1be14582614645ef830fb5f520946d8a~mv2.jpg/v1/fill/w_683,h_455,al_c,q_90,usm_0.66_1.00_0.01/760f65_1be14582614645ef830fb5f520946d8a~mv2.webp\n",
      "[{'url': 'https://static.wixstatic.com/media/760f65_a247ca8c7d6f41b58052690aeac1d850~mv2.jpg/v1/fill/w_683,h_455,al_c,q_90,usm_0.66_1.00_0.01/760f65_a247ca8c7d6f41b58052690aeac1d850~mv2.webp', 'caption': 'K22'}, {'url': 'https://static.wixstatic.com/media/760f65_aa13d9fb8bcb4481a1da66473486716d~mv2.jpg/v1/fill/w_875,h_455,al_c,q_90,usm_0.66_1.00_0.01/760f65_aa13d9fb8bcb4481a1da66473486716d~mv2.webp', 'caption': 'K43'}, {'url': 'https://static.wixstatic.com/media/760f65_1be14582614645ef830fb5f520946d8a~mv2.jpg/v1/fill/w_683,h_455,al_c,q_90,usm_0.66_1.00_0.01/760f65_1be14582614645ef830fb5f520946d8a~mv2.webp', 'caption': 'K33 backdive'}]\n",
      "https://static.wixstatic.com/media/760f65_49e806a607314d19bcd7ed81e80a8eec~mv2.jpg/v1/fill/w_683,h_455,al_c,q_90,usm_0.66_1.00_0.01/760f65_49e806a607314d19bcd7ed81e80a8eec~mv2.webp\n",
      "[{'url': 'https://static.wixstatic.com/media/760f65_a247ca8c7d6f41b58052690aeac1d850~mv2.jpg/v1/fill/w_683,h_455,al_c,q_90,usm_0.66_1.00_0.01/760f65_a247ca8c7d6f41b58052690aeac1d850~mv2.webp', 'caption': 'K22'}, {'url': 'https://static.wixstatic.com/media/760f65_aa13d9fb8bcb4481a1da66473486716d~mv2.jpg/v1/fill/w_875,h_455,al_c,q_90,usm_0.66_1.00_0.01/760f65_aa13d9fb8bcb4481a1da66473486716d~mv2.webp', 'caption': 'K43'}, {'url': 'https://static.wixstatic.com/media/760f65_1be14582614645ef830fb5f520946d8a~mv2.jpg/v1/fill/w_683,h_455,al_c,q_90,usm_0.66_1.00_0.01/760f65_1be14582614645ef830fb5f520946d8a~mv2.webp', 'caption': 'K33 backdive'}, {'url': 'https://static.wixstatic.com/media/760f65_49e806a607314d19bcd7ed81e80a8eec~mv2.jpg/v1/fill/w_683,h_455,al_c,q_90,usm_0.66_1.00_0.01/760f65_49e806a607314d19bcd7ed81e80a8eec~mv2.webp', 'caption': 'L106 breach'}]\n",
      "https://static.wixstatic.com/media/760f65_e2ae8c6935a041ffb3f705f774dde759~mv2.jpg/v1/fill/w_683,h_455,al_c,q_90,usm_0.66_1.00_0.01/760f65_e2ae8c6935a041ffb3f705f774dde759~mv2.webp\n",
      "[{'url': 'https://static.wixstatic.com/media/760f65_a247ca8c7d6f41b58052690aeac1d850~mv2.jpg/v1/fill/w_683,h_455,al_c,q_90,usm_0.66_1.00_0.01/760f65_a247ca8c7d6f41b58052690aeac1d850~mv2.webp', 'caption': 'K22'}, {'url': 'https://static.wixstatic.com/media/760f65_aa13d9fb8bcb4481a1da66473486716d~mv2.jpg/v1/fill/w_875,h_455,al_c,q_90,usm_0.66_1.00_0.01/760f65_aa13d9fb8bcb4481a1da66473486716d~mv2.webp', 'caption': 'K43'}, {'url': 'https://static.wixstatic.com/media/760f65_1be14582614645ef830fb5f520946d8a~mv2.jpg/v1/fill/w_683,h_455,al_c,q_90,usm_0.66_1.00_0.01/760f65_1be14582614645ef830fb5f520946d8a~mv2.webp', 'caption': 'K33 backdive'}, {'url': 'https://static.wixstatic.com/media/760f65_49e806a607314d19bcd7ed81e80a8eec~mv2.jpg/v1/fill/w_683,h_455,al_c,q_90,usm_0.66_1.00_0.01/760f65_49e806a607314d19bcd7ed81e80a8eec~mv2.webp', 'caption': 'L106 breach'}, {'url': 'https://static.wixstatic.com/media/760f65_e2ae8c6935a041ffb3f705f774dde759~mv2.jpg/v1/fill/w_683,h_455,al_c,q_90,usm_0.66_1.00_0.01/760f65_e2ae8c6935a041ffb3f705f774dde759~mv2.webp', 'caption': 'J35, J53, and J47'}]\n",
      "https://static.wixstatic.com/media/760f65_10fe5bbe05f14cf7adc623d5da00ab3d~mv2.jpg/v1/fill/w_685,h_455,al_c,q_90,usm_0.66_1.00_0.01/760f65_10fe5bbe05f14cf7adc623d5da00ab3d~mv2.webp\n",
      "[{'url': 'https://static.wixstatic.com/media/760f65_a247ca8c7d6f41b58052690aeac1d850~mv2.jpg/v1/fill/w_683,h_455,al_c,q_90,usm_0.66_1.00_0.01/760f65_a247ca8c7d6f41b58052690aeac1d850~mv2.webp', 'caption': 'K22'}, {'url': 'https://static.wixstatic.com/media/760f65_aa13d9fb8bcb4481a1da66473486716d~mv2.jpg/v1/fill/w_875,h_455,al_c,q_90,usm_0.66_1.00_0.01/760f65_aa13d9fb8bcb4481a1da66473486716d~mv2.webp', 'caption': 'K43'}, {'url': 'https://static.wixstatic.com/media/760f65_1be14582614645ef830fb5f520946d8a~mv2.jpg/v1/fill/w_683,h_455,al_c,q_90,usm_0.66_1.00_0.01/760f65_1be14582614645ef830fb5f520946d8a~mv2.webp', 'caption': 'K33 backdive'}, {'url': 'https://static.wixstatic.com/media/760f65_49e806a607314d19bcd7ed81e80a8eec~mv2.jpg/v1/fill/w_683,h_455,al_c,q_90,usm_0.66_1.00_0.01/760f65_49e806a607314d19bcd7ed81e80a8eec~mv2.webp', 'caption': 'L106 breach'}, {'url': 'https://static.wixstatic.com/media/760f65_e2ae8c6935a041ffb3f705f774dde759~mv2.jpg/v1/fill/w_683,h_455,al_c,q_90,usm_0.66_1.00_0.01/760f65_e2ae8c6935a041ffb3f705f774dde759~mv2.webp', 'caption': 'J35, J53, and J47'}, {'url': 'https://static.wixstatic.com/media/760f65_10fe5bbe05f14cf7adc623d5da00ab3d~mv2.jpg/v1/fill/w_685,h_455,al_c,q_90,usm_0.66_1.00_0.01/760f65_10fe5bbe05f14cf7adc623d5da00ab3d~mv2.webp', 'caption': 'K44 horsing around with J47'}]\n",
      "https://static.wixstatic.com/media/760f65_9a73d0cbfe86417587979aec84b8a0e8~mv2.jpg/v1/fill/w_684,h_455,al_c,q_90,usm_0.66_1.00_0.01/760f65_9a73d0cbfe86417587979aec84b8a0e8~mv2.webp\n",
      "[{'url': 'https://static.wixstatic.com/media/760f65_a247ca8c7d6f41b58052690aeac1d850~mv2.jpg/v1/fill/w_683,h_455,al_c,q_90,usm_0.66_1.00_0.01/760f65_a247ca8c7d6f41b58052690aeac1d850~mv2.webp', 'caption': 'K22'}, {'url': 'https://static.wixstatic.com/media/760f65_aa13d9fb8bcb4481a1da66473486716d~mv2.jpg/v1/fill/w_875,h_455,al_c,q_90,usm_0.66_1.00_0.01/760f65_aa13d9fb8bcb4481a1da66473486716d~mv2.webp', 'caption': 'K43'}, {'url': 'https://static.wixstatic.com/media/760f65_1be14582614645ef830fb5f520946d8a~mv2.jpg/v1/fill/w_683,h_455,al_c,q_90,usm_0.66_1.00_0.01/760f65_1be14582614645ef830fb5f520946d8a~mv2.webp', 'caption': 'K33 backdive'}, {'url': 'https://static.wixstatic.com/media/760f65_49e806a607314d19bcd7ed81e80a8eec~mv2.jpg/v1/fill/w_683,h_455,al_c,q_90,usm_0.66_1.00_0.01/760f65_49e806a607314d19bcd7ed81e80a8eec~mv2.webp', 'caption': 'L106 breach'}, {'url': 'https://static.wixstatic.com/media/760f65_e2ae8c6935a041ffb3f705f774dde759~mv2.jpg/v1/fill/w_683,h_455,al_c,q_90,usm_0.66_1.00_0.01/760f65_e2ae8c6935a041ffb3f705f774dde759~mv2.webp', 'caption': 'J35, J53, and J47'}, {'url': 'https://static.wixstatic.com/media/760f65_10fe5bbe05f14cf7adc623d5da00ab3d~mv2.jpg/v1/fill/w_685,h_455,al_c,q_90,usm_0.66_1.00_0.01/760f65_10fe5bbe05f14cf7adc623d5da00ab3d~mv2.webp', 'caption': 'K44 horsing around with J47'}, {'url': 'https://static.wixstatic.com/media/760f65_9a73d0cbfe86417587979aec84b8a0e8~mv2.jpg/v1/fill/w_684,h_455,al_c,q_90,usm_0.66_1.00_0.01/760f65_9a73d0cbfe86417587979aec84b8a0e8~mv2.webp', 'caption': 'J47 breach'}]\n"
     ]
    }
   ],
   "source": [
    "img_urls = []\n",
    "\n",
    "for i in range(0, len(urls)):\n",
    "    url = urls[i]\n",
    "    browser.visit(url)\n",
    "    time.sleep(5)\n",
    "    # html object\n",
    "    html = browser.html\n",
    "    # parse html with beautiful soup\n",
    "    soup = BeautifulSoup(html, 'html.parser')\n",
    "    result = soup.find('div', id ='SITE_CONTAINER')\n",
    "    result = result.find('div', class_ ='noop')\n",
    "    result = result.find('div', class_ ='siteAspectsContainer')\n",
    "    result = result.find('div', class_=\"s_VzqUUImageZoomSkin\")\n",
    "    result = result.find('div', class_=\"s_VzqUUImageZoomSkinmediaZoom\")\n",
    "    click = result.find('div', class_=\"s_VzqUUImageZoomSkinmediaZoomblockingLayer\")\n",
    "    result = click.find('div', class_=\"s_VzqUUImageZoomSkinmediaZoomdialogBox\")\n",
    "    result = result.find('div', class_=\"s_VzqUUImageZoomSkinmediaZoomitemsContainer\")\n",
    "    result = result.find('div', class_=\"s_VzqUUImageZoomSkinimageItem\")\n",
    "    result = result.find('div', class_=\"s_VzqUUImageZoomSkinimageItemimage\")\n",
    "    img_url = result.find('img')['src']\n",
    "    caption = result.find('img')['alt']\n",
    "    post = {\"url\": img_url, \"caption\": caption}\n",
    "    img_urls.append(post)\n",
    "    print(img_url)\n"
   ]
  },
  {
   "cell_type": "code",
   "execution_count": 9,
   "metadata": {},
   "outputs": [
    {
     "data": {
      "text/plain": [
       "[{'url': 'https://static.wixstatic.com/media/760f65_a247ca8c7d6f41b58052690aeac1d850~mv2.jpg/v1/fill/w_683,h_455,al_c,q_90,usm_0.66_1.00_0.01/760f65_a247ca8c7d6f41b58052690aeac1d850~mv2.webp',\n",
       "  'caption': 'K22'},\n",
       " {'url': 'https://static.wixstatic.com/media/760f65_aa13d9fb8bcb4481a1da66473486716d~mv2.jpg/v1/fill/w_875,h_455,al_c,q_90,usm_0.66_1.00_0.01/760f65_aa13d9fb8bcb4481a1da66473486716d~mv2.webp',\n",
       "  'caption': 'K43'},\n",
       " {'url': 'https://static.wixstatic.com/media/760f65_1be14582614645ef830fb5f520946d8a~mv2.jpg/v1/fill/w_683,h_455,al_c,q_90,usm_0.66_1.00_0.01/760f65_1be14582614645ef830fb5f520946d8a~mv2.webp',\n",
       "  'caption': 'K33 backdive'},\n",
       " {'url': 'https://static.wixstatic.com/media/760f65_49e806a607314d19bcd7ed81e80a8eec~mv2.jpg/v1/fill/w_683,h_455,al_c,q_90,usm_0.66_1.00_0.01/760f65_49e806a607314d19bcd7ed81e80a8eec~mv2.webp',\n",
       "  'caption': 'L106 breach'},\n",
       " {'url': 'https://static.wixstatic.com/media/760f65_e2ae8c6935a041ffb3f705f774dde759~mv2.jpg/v1/fill/w_683,h_455,al_c,q_90,usm_0.66_1.00_0.01/760f65_e2ae8c6935a041ffb3f705f774dde759~mv2.webp',\n",
       "  'caption': 'J35, J53, and J47'},\n",
       " {'url': 'https://static.wixstatic.com/media/760f65_10fe5bbe05f14cf7adc623d5da00ab3d~mv2.jpg/v1/fill/w_685,h_455,al_c,q_90,usm_0.66_1.00_0.01/760f65_10fe5bbe05f14cf7adc623d5da00ab3d~mv2.webp',\n",
       "  'caption': 'K44 horsing around with J47'},\n",
       " {'url': 'https://static.wixstatic.com/media/760f65_9a73d0cbfe86417587979aec84b8a0e8~mv2.jpg/v1/fill/w_684,h_455,al_c,q_90,usm_0.66_1.00_0.01/760f65_9a73d0cbfe86417587979aec84b8a0e8~mv2.webp',\n",
       "  'caption': 'J47 breach'}]"
      ]
     },
     "execution_count": 9,
     "metadata": {},
     "output_type": "execute_result"
    }
   ],
   "source": [
    "img_urls"
   ]
  }
 ],
 "metadata": {
  "kernelspec": {
   "display_name": "Python [conda env:PythonData] *",
   "language": "python",
   "name": "conda-env-PythonData-py"
  },
  "language_info": {
   "codemirror_mode": {
    "name": "ipython",
    "version": 3
   },
   "file_extension": ".py",
   "mimetype": "text/x-python",
   "name": "python",
   "nbconvert_exporter": "python",
   "pygments_lexer": "ipython3",
   "version": "3.6.10"
  }
 },
 "nbformat": 4,
 "nbformat_minor": 4
}
