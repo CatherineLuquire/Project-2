{
 "cells": [
  {
   "cell_type": "code",
   "execution_count": 1,
   "metadata": {},
   "outputs": [],
   "source": [
    "# Import SQLAlchemy and other dependencies here\n",
    "import sqlalchemy\n",
    "from sqlalchemy.orm import Session\n",
    "from sqlalchemy import create_engine, inspect, func\n",
    "from sqlalchemy import Column, Float, Integer, String, Date\n",
    "from sqlalchemy.ext.declarative import declarative_base\n",
    "Base = declarative_base()\n",
    "\n",
    "import pandas as pd\n",
    "import numpy as np"
   ]
  },
  {
   "cell_type": "code",
   "execution_count": 2,
   "metadata": {},
   "outputs": [],
   "source": [
    "# MatPlotLib/NumPy/SciPy\n",
    "%matplotlib inline\n",
    "from matplotlib import pyplot as plt\n",
    "import numpy as np\n",
    "import scipy.stats as stats"
   ]
  },
  {
   "cell_type": "code",
   "execution_count": 3,
   "metadata": {},
   "outputs": [],
   "source": [
    "engine = create_engine('postgresql://postgres:9807775984@Bd@localhost:5432/marineMammals')\n",
    "connection = engine.connect()"
   ]
  },
  {
   "cell_type": "code",
   "execution_count": 4,
   "metadata": {},
   "outputs": [],
   "source": [
    "# Create the inspector and connect it to the engine\n",
    "inspector = inspect(engine)"
   ]
  },
  {
   "cell_type": "code",
   "execution_count": 5,
   "metadata": {},
   "outputs": [
    {
     "data": {
      "text/plain": [
       "['marine_mammal']"
      ]
     },
     "execution_count": 5,
     "metadata": {},
     "output_type": "execute_result"
    }
   ],
   "source": [
    "# Collect the names of tables within the database\n",
    "inspector.get_table_names()"
   ]
  },
  {
   "cell_type": "code",
   "execution_count": 6,
   "metadata": {},
   "outputs": [
    {
     "name": "stdout",
     "output_type": "stream",
     "text": [
      "id VARCHAR(100)\n",
      "species VARCHAR(65)\n",
      "quantity NUMERIC\n",
      "description VARCHAR(500)\n",
      "url VARCHAR(200)\n",
      "latitude NUMERIC\n",
      "longitude NUMERIC\n",
      "location VARCHAR\n",
      "sighted_at DATE\n",
      "created_at DATE\n",
      "updated_at DATE\n",
      "orca_type VARCHAR\n",
      "orca_pod VARCHAR\n"
     ]
    }
   ],
   "source": [
    "\n",
    "# Using the inspector to print the column names within the 'marine_mammal' table and its types\n",
    "columns = inspector.get_columns('marine_mammal')\n",
    "for column in columns:\n",
    "    print(column[\"name\"], column[\"type\"])"
   ]
  },
  {
   "cell_type": "code",
   "execution_count": 7,
   "metadata": {},
   "outputs": [],
   "source": [
    "#create marine_mammal class\n",
    "class marine_mammal(Base):\n",
    "    __tablename__ = 'marine_mammal'\n",
    "    \n",
    "    id = Column (String, primary_key=True)\n",
    "    species = Column (String)\n",
    "    quantity = Column (Integer)\n",
    "    description = Column (String)\n",
    "    url = Column (String)\n",
    "    latitude = Column (Float)\n",
    "    longitude = Column (Float)\n",
    "    location = Column (String)\n",
    "    sighted_at = Column (Date)\n",
    "    created_at = Column (Date)\n",
    "    updated_at = Column (Date)\n",
    "    orca_type = Column (String)\n",
    "    orca_pod = Column (String)"
   ]
  },
  {
   "cell_type": "code",
   "execution_count": 8,
   "metadata": {},
   "outputs": [],
   "source": [
    "session = Session(engine)"
   ]
  },
  {
   "cell_type": "code",
   "execution_count": 9,
   "metadata": {},
   "outputs": [],
   "source": [
    "marine_mammal_data = pd.read_sql(\"select * from marine_mammal\", connection)"
   ]
  },
  {
   "cell_type": "code",
   "execution_count": 14,
   "metadata": {},
   "outputs": [
    {
     "data": {
      "text/html": [
       "<div>\n",
       "<style scoped>\n",
       "    .dataframe tbody tr th:only-of-type {\n",
       "        vertical-align: middle;\n",
       "    }\n",
       "\n",
       "    .dataframe tbody tr th {\n",
       "        vertical-align: top;\n",
       "    }\n",
       "\n",
       "    .dataframe thead th {\n",
       "        text-align: right;\n",
       "    }\n",
       "</style>\n",
       "<table border=\"1\" class=\"dataframe\">\n",
       "  <thead>\n",
       "    <tr style=\"text-align: right;\">\n",
       "      <th></th>\n",
       "      <th>id</th>\n",
       "      <th>species</th>\n",
       "      <th>quantity</th>\n",
       "      <th>description</th>\n",
       "      <th>url</th>\n",
       "      <th>latitude</th>\n",
       "      <th>longitude</th>\n",
       "      <th>location</th>\n",
       "      <th>sighted_at</th>\n",
       "      <th>created_at</th>\n",
       "      <th>updated_at</th>\n",
       "      <th>orca_type</th>\n",
       "      <th>orca_pod</th>\n",
       "    </tr>\n",
       "  </thead>\n",
       "  <tbody>\n",
       "    <tr>\n",
       "      <th>0</th>\n",
       "      <td>5a049b7e686f743ec5040000</td>\n",
       "      <td>orca</td>\n",
       "      <td>5.0</td>\n",
       "      <td>Spotted from the Edmonds-Kingston ferry, near ...</td>\n",
       "      <td>http://hotline.whalemuseum.org/sightings/5a049...</td>\n",
       "      <td>47.799530</td>\n",
       "      <td>-122.479967</td>\n",
       "      <td>None</td>\n",
       "      <td>2017-11-09</td>\n",
       "      <td>2017-11-09</td>\n",
       "      <td>2017-11-14</td>\n",
       "      <td>unknown</td>\n",
       "      <td>None</td>\n",
       "    </tr>\n",
       "    <tr>\n",
       "      <th>1</th>\n",
       "      <td>59d039a0686f743ec5020000</td>\n",
       "      <td>harbor porpoise</td>\n",
       "      <td>20.0</td>\n",
       "      <td>From the Inn at Langley looking east there was...</td>\n",
       "      <td>http://hotline.whalemuseum.org/sightings/59d03...</td>\n",
       "      <td>48.047448</td>\n",
       "      <td>-122.404776</td>\n",
       "      <td>Camano Island, WA, US</td>\n",
       "      <td>2017-10-01</td>\n",
       "      <td>2017-10-01</td>\n",
       "      <td>2017-10-03</td>\n",
       "      <td>unknown</td>\n",
       "      <td>None</td>\n",
       "    </tr>\n",
       "    <tr>\n",
       "      <th>2</th>\n",
       "      <td>59ab6d65686f747484140000</td>\n",
       "      <td>humpback</td>\n",
       "      <td>1.0</td>\n",
       "      <td>heading north in the Tacoma narrows,, between ...</td>\n",
       "      <td>http://hotline.whalemuseum.org/sightings/59ab6...</td>\n",
       "      <td>47.307289</td>\n",
       "      <td>-122.561674</td>\n",
       "      <td>Gig Harbor, WA, US</td>\n",
       "      <td>2017-09-03</td>\n",
       "      <td>2017-09-03</td>\n",
       "      <td>2017-09-06</td>\n",
       "      <td>unknown</td>\n",
       "      <td>None</td>\n",
       "    </tr>\n",
       "    <tr>\n",
       "      <th>3</th>\n",
       "      <td>597d058d686f7474840b0000</td>\n",
       "      <td>humpback</td>\n",
       "      <td>1.0</td>\n",
       "      <td>A large splash (breech?) first observed off Ke...</td>\n",
       "      <td>http://hotline.whalemuseum.org/sightings/597d0...</td>\n",
       "      <td>47.166960</td>\n",
       "      <td>-122.614546</td>\n",
       "      <td>Steilacoom, WA, US</td>\n",
       "      <td>2017-07-29</td>\n",
       "      <td>2017-07-29</td>\n",
       "      <td>2017-08-03</td>\n",
       "      <td>unknown</td>\n",
       "      <td>None</td>\n",
       "    </tr>\n",
       "    <tr>\n",
       "      <th>4</th>\n",
       "      <td>596b516e686f747484090000</td>\n",
       "      <td>humpback</td>\n",
       "      <td>1.0</td>\n",
       "      <td>On train near picnic point (south of Mukilteo)...</td>\n",
       "      <td>http://hotline.whalemuseum.org/sightings/596b5...</td>\n",
       "      <td>47.884579</td>\n",
       "      <td>-122.342120</td>\n",
       "      <td>Edmonds, WA, US</td>\n",
       "      <td>2017-07-16</td>\n",
       "      <td>2017-07-16</td>\n",
       "      <td>2017-08-03</td>\n",
       "      <td>unknown</td>\n",
       "      <td>None</td>\n",
       "    </tr>\n",
       "  </tbody>\n",
       "</table>\n",
       "</div>"
      ],
      "text/plain": [
       "                         id          species  quantity  \\\n",
       "0  5a049b7e686f743ec5040000             orca       5.0   \n",
       "1  59d039a0686f743ec5020000  harbor porpoise      20.0   \n",
       "2  59ab6d65686f747484140000         humpback       1.0   \n",
       "3  597d058d686f7474840b0000         humpback       1.0   \n",
       "4  596b516e686f747484090000         humpback       1.0   \n",
       "\n",
       "                                         description  \\\n",
       "0  Spotted from the Edmonds-Kingston ferry, near ...   \n",
       "1  From the Inn at Langley looking east there was...   \n",
       "2  heading north in the Tacoma narrows,, between ...   \n",
       "3  A large splash (breech?) first observed off Ke...   \n",
       "4  On train near picnic point (south of Mukilteo)...   \n",
       "\n",
       "                                                 url   latitude   longitude  \\\n",
       "0  http://hotline.whalemuseum.org/sightings/5a049...  47.799530 -122.479967   \n",
       "1  http://hotline.whalemuseum.org/sightings/59d03...  48.047448 -122.404776   \n",
       "2  http://hotline.whalemuseum.org/sightings/59ab6...  47.307289 -122.561674   \n",
       "3  http://hotline.whalemuseum.org/sightings/597d0...  47.166960 -122.614546   \n",
       "4  http://hotline.whalemuseum.org/sightings/596b5...  47.884579 -122.342120   \n",
       "\n",
       "                location  sighted_at  created_at  updated_at orca_type  \\\n",
       "0                   None  2017-11-09  2017-11-09  2017-11-14   unknown   \n",
       "1  Camano Island, WA, US  2017-10-01  2017-10-01  2017-10-03   unknown   \n",
       "2     Gig Harbor, WA, US  2017-09-03  2017-09-03  2017-09-06   unknown   \n",
       "3     Steilacoom, WA, US  2017-07-29  2017-07-29  2017-08-03   unknown   \n",
       "4        Edmonds, WA, US  2017-07-16  2017-07-16  2017-08-03   unknown   \n",
       "\n",
       "  orca_pod  \n",
       "0     None  \n",
       "1     None  \n",
       "2     None  \n",
       "3     None  \n",
       "4     None  "
      ]
     },
     "execution_count": 14,
     "metadata": {},
     "output_type": "execute_result"
    }
   ],
   "source": [
    "marine_mammal_data.head()"
   ]
  },
  {
   "cell_type": "code",
   "execution_count": 88,
   "metadata": {},
   "outputs": [
    {
     "data": {
      "text/html": [
       "<div>\n",
       "<style scoped>\n",
       "    .dataframe tbody tr th:only-of-type {\n",
       "        vertical-align: middle;\n",
       "    }\n",
       "\n",
       "    .dataframe tbody tr th {\n",
       "        vertical-align: top;\n",
       "    }\n",
       "\n",
       "    .dataframe thead th {\n",
       "        text-align: right;\n",
       "    }\n",
       "</style>\n",
       "<table border=\"1\" class=\"dataframe\">\n",
       "  <thead>\n",
       "    <tr style=\"text-align: right;\">\n",
       "      <th></th>\n",
       "      <th>location</th>\n",
       "      <th>species</th>\n",
       "    </tr>\n",
       "  </thead>\n",
       "  <tbody>\n",
       "    <tr>\n",
       "      <th>0</th>\n",
       "      <td>None</td>\n",
       "      <td>orca</td>\n",
       "    </tr>\n",
       "    <tr>\n",
       "      <th>1</th>\n",
       "      <td>Camano Island, WA, US</td>\n",
       "      <td>harbor porpoise</td>\n",
       "    </tr>\n",
       "    <tr>\n",
       "      <th>2</th>\n",
       "      <td>Gig Harbor, WA, US</td>\n",
       "      <td>humpback</td>\n",
       "    </tr>\n",
       "    <tr>\n",
       "      <th>3</th>\n",
       "      <td>Steilacoom, WA, US</td>\n",
       "      <td>humpback</td>\n",
       "    </tr>\n",
       "    <tr>\n",
       "      <th>4</th>\n",
       "      <td>Edmonds, WA, US</td>\n",
       "      <td>humpback</td>\n",
       "    </tr>\n",
       "    <tr>\n",
       "      <th>...</th>\n",
       "      <td>...</td>\n",
       "      <td>...</td>\n",
       "    </tr>\n",
       "    <tr>\n",
       "      <th>995</th>\n",
       "      <td>Friday Harbor, WA, US</td>\n",
       "      <td>orca</td>\n",
       "    </tr>\n",
       "    <tr>\n",
       "      <th>996</th>\n",
       "      <td>Friday Harbor, WA, US</td>\n",
       "      <td>orca</td>\n",
       "    </tr>\n",
       "    <tr>\n",
       "      <th>997</th>\n",
       "      <td>Friday Harbor, WA, US</td>\n",
       "      <td>orca</td>\n",
       "    </tr>\n",
       "    <tr>\n",
       "      <th>998</th>\n",
       "      <td>Friday Harbor, WA, US</td>\n",
       "      <td>orca</td>\n",
       "    </tr>\n",
       "    <tr>\n",
       "      <th>999</th>\n",
       "      <td>Friday Harbor, WA, US</td>\n",
       "      <td>orca</td>\n",
       "    </tr>\n",
       "  </tbody>\n",
       "</table>\n",
       "<p>1000 rows × 2 columns</p>\n",
       "</div>"
      ],
      "text/plain": [
       "                  location          species\n",
       "0                     None             orca\n",
       "1    Camano Island, WA, US  harbor porpoise\n",
       "2       Gig Harbor, WA, US         humpback\n",
       "3       Steilacoom, WA, US         humpback\n",
       "4          Edmonds, WA, US         humpback\n",
       "..                     ...              ...\n",
       "995  Friday Harbor, WA, US             orca\n",
       "996  Friday Harbor, WA, US             orca\n",
       "997  Friday Harbor, WA, US             orca\n",
       "998  Friday Harbor, WA, US             orca\n",
       "999  Friday Harbor, WA, US             orca\n",
       "\n",
       "[1000 rows x 2 columns]"
      ]
     },
     "execution_count": 88,
     "metadata": {},
     "output_type": "execute_result"
    }
   ],
   "source": [
    "df1 = pd.DataFrame (marine_mammal_data, columns = ['location','species'])\n",
    "df1"
   ]
  },
  {
   "cell_type": "code",
   "execution_count": 89,
   "metadata": {},
   "outputs": [
    {
     "data": {
      "text/html": [
       "<div>\n",
       "<style scoped>\n",
       "    .dataframe tbody tr th:only-of-type {\n",
       "        vertical-align: middle;\n",
       "    }\n",
       "\n",
       "    .dataframe tbody tr th {\n",
       "        vertical-align: top;\n",
       "    }\n",
       "\n",
       "    .dataframe thead th {\n",
       "        text-align: right;\n",
       "    }\n",
       "</style>\n",
       "<table border=\"1\" class=\"dataframe\">\n",
       "  <thead>\n",
       "    <tr style=\"text-align: right;\">\n",
       "      <th></th>\n",
       "      <th>species</th>\n",
       "    </tr>\n",
       "    <tr>\n",
       "      <th>location</th>\n",
       "      <th></th>\n",
       "    </tr>\n",
       "  </thead>\n",
       "  <tbody>\n",
       "    <tr>\n",
       "      <th>Allyn-Grapeview, WA, US</th>\n",
       "      <td>1</td>\n",
       "    </tr>\n",
       "    <tr>\n",
       "      <th>Anacortes, WA, US</th>\n",
       "      <td>1</td>\n",
       "    </tr>\n",
       "    <tr>\n",
       "      <th>Bainbridge Island, WA, US</th>\n",
       "      <td>6</td>\n",
       "    </tr>\n",
       "    <tr>\n",
       "      <th>Blakely Island, WA, US</th>\n",
       "      <td>1</td>\n",
       "    </tr>\n",
       "    <tr>\n",
       "      <th>Burien, WA, US</th>\n",
       "      <td>1</td>\n",
       "    </tr>\n",
       "    <tr>\n",
       "      <th>Camano Island, WA, US</th>\n",
       "      <td>1</td>\n",
       "    </tr>\n",
       "    <tr>\n",
       "      <th>Capital, BC, CA</th>\n",
       "      <td>1</td>\n",
       "    </tr>\n",
       "    <tr>\n",
       "      <th>Coupeville, WA, US</th>\n",
       "      <td>1</td>\n",
       "    </tr>\n",
       "    <tr>\n",
       "      <th>Delta, BC, CA</th>\n",
       "      <td>12</td>\n",
       "    </tr>\n",
       "    <tr>\n",
       "      <th>Duncan, BC, CA</th>\n",
       "      <td>1</td>\n",
       "    </tr>\n",
       "    <tr>\n",
       "      <th>Eastsound, WA, US</th>\n",
       "      <td>4</td>\n",
       "    </tr>\n",
       "    <tr>\n",
       "      <th>Edmonds, WA, US</th>\n",
       "      <td>1</td>\n",
       "    </tr>\n",
       "    <tr>\n",
       "      <th>Friday Harbor, WA, US</th>\n",
       "      <td>596</td>\n",
       "    </tr>\n",
       "    <tr>\n",
       "      <th>Gabriola, BC, CA</th>\n",
       "      <td>3</td>\n",
       "    </tr>\n",
       "    <tr>\n",
       "      <th>Galiano Island, BC, CA</th>\n",
       "      <td>6</td>\n",
       "    </tr>\n",
       "    <tr>\n",
       "      <th>Garden Bay, BC, CA</th>\n",
       "      <td>1</td>\n",
       "    </tr>\n",
       "    <tr>\n",
       "      <th>Gig Harbor, WA, US</th>\n",
       "      <td>1</td>\n",
       "    </tr>\n",
       "    <tr>\n",
       "      <th>Juan de Fuca, BC, CA</th>\n",
       "      <td>30</td>\n",
       "    </tr>\n",
       "    <tr>\n",
       "      <th>Kingston, WA, US</th>\n",
       "      <td>3</td>\n",
       "    </tr>\n",
       "    <tr>\n",
       "      <th>Lopez Island, WA, US</th>\n",
       "      <td>1</td>\n",
       "    </tr>\n",
       "    <tr>\n",
       "      <th>Mayne Island, BC, CA</th>\n",
       "      <td>17</td>\n",
       "    </tr>\n",
       "    <tr>\n",
       "      <th>Mount Waddington A, BC, CA</th>\n",
       "      <td>3</td>\n",
       "    </tr>\n",
       "    <tr>\n",
       "      <th>Nanaimo, BC, CA</th>\n",
       "      <td>1</td>\n",
       "    </tr>\n",
       "    <tr>\n",
       "      <th>North Saanich, BC, CA</th>\n",
       "      <td>1</td>\n",
       "    </tr>\n",
       "    <tr>\n",
       "      <th>Olga, WA, US</th>\n",
       "      <td>1</td>\n",
       "    </tr>\n",
       "    <tr>\n",
       "      <th>Pender Island, BC, CA</th>\n",
       "      <td>33</td>\n",
       "    </tr>\n",
       "    <tr>\n",
       "      <th>Point Roberts, WA, US</th>\n",
       "      <td>5</td>\n",
       "    </tr>\n",
       "    <tr>\n",
       "      <th>Port Angeles, WA, US</th>\n",
       "      <td>5</td>\n",
       "    </tr>\n",
       "    <tr>\n",
       "      <th>Port Renfrew, BC, CA</th>\n",
       "      <td>12</td>\n",
       "    </tr>\n",
       "    <tr>\n",
       "      <th>Richmond, BC, CA</th>\n",
       "      <td>2</td>\n",
       "    </tr>\n",
       "    <tr>\n",
       "      <th>Saturna, BC, CA</th>\n",
       "      <td>36</td>\n",
       "    </tr>\n",
       "    <tr>\n",
       "      <th>Seattle, WA, US</th>\n",
       "      <td>10</td>\n",
       "    </tr>\n",
       "    <tr>\n",
       "      <th>Sequim, WA, US</th>\n",
       "      <td>1</td>\n",
       "    </tr>\n",
       "    <tr>\n",
       "      <th>Shirley, BC, CA</th>\n",
       "      <td>7</td>\n",
       "    </tr>\n",
       "    <tr>\n",
       "      <th>Sidney, BC, CA</th>\n",
       "      <td>1</td>\n",
       "    </tr>\n",
       "    <tr>\n",
       "      <th>Sooke, BC, CA</th>\n",
       "      <td>29</td>\n",
       "    </tr>\n",
       "    <tr>\n",
       "      <th>Southern Gulf Islands, BC, CA</th>\n",
       "      <td>1</td>\n",
       "    </tr>\n",
       "    <tr>\n",
       "      <th>Steilacoom, WA, US</th>\n",
       "      <td>1</td>\n",
       "    </tr>\n",
       "    <tr>\n",
       "      <th>Vancouver, BC, CA</th>\n",
       "      <td>1</td>\n",
       "    </tr>\n",
       "    <tr>\n",
       "      <th>Vashon, WA, US</th>\n",
       "      <td>4</td>\n",
       "    </tr>\n",
       "    <tr>\n",
       "      <th>Victoria, BC, CA</th>\n",
       "      <td>18</td>\n",
       "    </tr>\n",
       "    <tr>\n",
       "      <th>West Vancouver, BC, CA</th>\n",
       "      <td>2</td>\n",
       "    </tr>\n",
       "  </tbody>\n",
       "</table>\n",
       "</div>"
      ],
      "text/plain": [
       "                               species\n",
       "location                              \n",
       "Allyn-Grapeview, WA, US              1\n",
       "Anacortes, WA, US                    1\n",
       "Bainbridge Island, WA, US            6\n",
       "Blakely Island, WA, US               1\n",
       "Burien, WA, US                       1\n",
       "Camano Island, WA, US                1\n",
       "Capital, BC, CA                      1\n",
       "Coupeville, WA, US                   1\n",
       "Delta, BC, CA                       12\n",
       "Duncan, BC, CA                       1\n",
       "Eastsound, WA, US                    4\n",
       "Edmonds, WA, US                      1\n",
       "Friday Harbor, WA, US              596\n",
       "Gabriola, BC, CA                     3\n",
       "Galiano Island, BC, CA               6\n",
       "Garden Bay, BC, CA                   1\n",
       "Gig Harbor, WA, US                   1\n",
       "Juan de Fuca, BC, CA                30\n",
       "Kingston, WA, US                     3\n",
       "Lopez Island, WA, US                 1\n",
       "Mayne Island, BC, CA                17\n",
       "Mount Waddington A, BC, CA           3\n",
       "Nanaimo, BC, CA                      1\n",
       "North Saanich, BC, CA                1\n",
       "Olga, WA, US                         1\n",
       "Pender Island, BC, CA               33\n",
       "Point Roberts, WA, US                5\n",
       "Port Angeles, WA, US                 5\n",
       "Port Renfrew, BC, CA                12\n",
       "Richmond, BC, CA                     2\n",
       "Saturna, BC, CA                     36\n",
       "Seattle, WA, US                     10\n",
       "Sequim, WA, US                       1\n",
       "Shirley, BC, CA                      7\n",
       "Sidney, BC, CA                       1\n",
       "Sooke, BC, CA                       29\n",
       "Southern Gulf Islands, BC, CA        1\n",
       "Steilacoom, WA, US                   1\n",
       "Vancouver, BC, CA                    1\n",
       "Vashon, WA, US                       4\n",
       "Victoria, BC, CA                    18\n",
       "West Vancouver, BC, CA               2"
      ]
     },
     "execution_count": 89,
     "metadata": {},
     "output_type": "execute_result"
    }
   ],
   "source": [
    "df2=df1.groupby('location').count()\n",
    "df2"
   ]
  },
  {
   "cell_type": "code",
   "execution_count": 99,
   "metadata": {},
   "outputs": [
    {
     "name": "stdout",
     "output_type": "stream",
     "text": [
      "['Allyn-Grapeview, WA, US', 'Anacortes, WA, US', 'Bainbridge Island, WA, US', 'Blakely Island, WA, US', 'Burien, WA, US', 'Camano Island, WA, US', 'Capital, BC, CA', 'Coupeville, WA, US', 'Delta, BC, CA', 'Duncan, BC, CA', 'Eastsound, WA, US', 'Edmonds, WA, US', 'Friday Harbor, WA, US', 'Gabriola, BC, CA', 'Galiano Island, BC, CA', 'Garden Bay, BC, CA', 'Gig Harbor, WA, US', 'Juan de Fuca, BC, CA', 'Kingston, WA, US', 'Lopez Island, WA, US', 'Mayne Island, BC, CA', 'Mount Waddington A, BC, CA', 'Nanaimo, BC, CA', 'North Saanich, BC, CA', 'Olga, WA, US', 'Pender Island, BC, CA', 'Point Roberts, WA, US', 'Port Angeles, WA, US', 'Port Renfrew, BC, CA', 'Richmond, BC, CA', 'Saturna, BC, CA', 'Seattle, WA, US', 'Sequim, WA, US', 'Shirley, BC, CA', 'Sidney, BC, CA', 'Sooke, BC, CA', 'Southern Gulf Islands, BC, CA', 'Steilacoom, WA, US', 'Vancouver, BC, CA', 'Vashon, WA, US', 'Victoria, BC, CA', 'West Vancouver, BC, CA']\n",
      "[1, 1, 6, 1, 1, 1, 1, 1, 12, 1, 4, 1, 596, 3, 6, 1, 1, 30, 3, 1, 17, 3, 1, 1, 1, 33, 5, 5, 12, 2, 36, 10, 1, 7, 1, 29, 1, 1, 1, 4, 18, 2]\n"
     ]
    }
   ],
   "source": [
    "location = df2.index.tolist()\n",
    "quantity=df2['species'].tolist() \n",
    "print(location)\n",
    "print(quantity)"
   ]
  },
  {
   "cell_type": "code",
   "execution_count": 122,
   "metadata": {},
   "outputs": [
    {
     "data": {
      "image/png": "[encoded data removed]",
      "text/plain": [
       "<Figure size 1080x360 with 1 Axes>"
      ]
     },
     "metadata": {
      "needs_background": "light"
     },
     "output_type": "display_data"
    },
    {
     "data": {
      "text/plain": [
       "<Figure size 432x288 with 0 Axes>"
      ]
     },
     "metadata": {},
     "output_type": "display_data"
    }
   ],
   "source": [
    "fig = plt.figure(figsize=(15,5))\n",
    "ax = fig.add_axes([0,0,1,1])\n",
    "x = location\n",
    "y = quantity \n",
    "ax.bar(x,y)\n",
    "plt.xticks(rotation=90,fontsize=12)\n",
    "plt.title('Location Vs Count')\n",
    "\n",
    "plt.show()\n",
    "plt.savefig('Location Vs Count.png')"
   ]
  },
  {
   "cell_type": "code",
   "execution_count": 101,
   "metadata": {},
   "outputs": [
    {
     "data": {
      "text/html": [
       "<div>\n",
       "<style scoped>\n",
       "    .dataframe tbody tr th:only-of-type {\n",
       "        vertical-align: middle;\n",
       "    }\n",
       "\n",
       "    .dataframe tbody tr th {\n",
       "        vertical-align: top;\n",
       "    }\n",
       "\n",
       "    .dataframe thead th {\n",
       "        text-align: right;\n",
       "    }\n",
       "</style>\n",
       "<table border=\"1\" class=\"dataframe\">\n",
       "  <thead>\n",
       "    <tr style=\"text-align: right;\">\n",
       "      <th></th>\n",
       "      <th>location</th>\n",
       "    </tr>\n",
       "    <tr>\n",
       "      <th>species</th>\n",
       "      <th></th>\n",
       "    </tr>\n",
       "  </thead>\n",
       "  <tbody>\n",
       "    <tr>\n",
       "      <th>gray whale</th>\n",
       "      <td>1</td>\n",
       "    </tr>\n",
       "    <tr>\n",
       "      <th>harbor porpoise</th>\n",
       "      <td>1</td>\n",
       "    </tr>\n",
       "    <tr>\n",
       "      <th>humpback</th>\n",
       "      <td>3</td>\n",
       "    </tr>\n",
       "    <tr>\n",
       "      <th>orca</th>\n",
       "      <td>858</td>\n",
       "    </tr>\n",
       "  </tbody>\n",
       "</table>\n",
       "</div>"
      ],
      "text/plain": [
       "                 location\n",
       "species                  \n",
       "gray whale              1\n",
       "harbor porpoise         1\n",
       "humpback                3\n",
       "orca                  858"
      ]
     },
     "execution_count": 101,
     "metadata": {},
     "output_type": "execute_result"
    }
   ],
   "source": [
    "df3=df1.groupby('species').count()\n",
    "species=df3.index.tolist()\n",
    "Quantity=df3['location'].tolist() \n",
    "df3"
   ]
  },
  {
   "cell_type": "code",
   "execution_count": 132,
   "metadata": {},
   "outputs": [
    {
     "data": {
      "image/png": "[encoded data removed]",
      "text/plain": [
       "<Figure size 1080x576 with 1 Axes>"
      ]
     },
     "metadata": {
      "needs_background": "light"
     },
     "output_type": "display_data"
    },
    {
     "data": {
      "text/plain": [
       "<Figure size 432x288 with 0 Axes>"
      ]
     },
     "metadata": {},
     "output_type": "display_data"
    }
   ],
   "source": [
    "fig = plt.figure(figsize=(15,8))\n",
    "ax = fig.add_axes([0,0,1,1])\n",
    "x = species\n",
    "y = Quantity\n",
    "ax.bar(x,y)\n",
    "plt.title('Species Count',size=25)\n",
    "plt.xticks(rotation=0,fontsize=18)\n",
    "plt.yticks(rotation=0,fontsize=18)\n",
    "plt.show()\n",
    "plt.savefig('species Count.png')"
   ]
  },
  {
   "cell_type": "code",
   "execution_count": 94,
   "metadata": {},
   "outputs": [
    {
     "data": {
      "image/png": "[encoded data removed]",
      "text/plain": [
       "<Figure size 432x288 with 1 Axes>"
      ]
     },
     "metadata": {},
     "output_type": "display_data"
    }
   ],
   "source": [
    "# Pie chart\n",
    "labels = 'gray whale','harbor porpoise','humpback','orca'\n",
    "sizes =  df3['location'].tolist()\n",
    "# only \"explode\" the 2nd slice (i.e. 'Hogs')\n",
    "explode = (0.1, 0.1, 0.1, 0.1)  \n",
    "fig1, ax1 = plt.subplots()\n",
    "ax1.pie(sizes, explode=explode, labels=labels, autopct='%1.1f%%',\n",
    "        shadow=True, startangle=90)\n",
    "# Equal aspect ratio ensures that pie is drawn as a circle\n",
    "ax1.axis('equal')  \n",
    "plt.tight_layout()\n",
    "plt.show()"
   ]
  },
  {
   "cell_type": "code",
   "execution_count": 103,
   "metadata": {},
   "outputs": [
    {
     "data": {
      "image/png": "[encoded data removed]",
      "text/plain": [
       "<Figure size 432x288 with 1 Axes>"
      ]
     },
     "metadata": {},
     "output_type": "display_data"
    }
   ],
   "source": [
    "explode = [0.03,0,0.1,0] # To slice the perticuler section\n",
    "colors = [\"c\", 'b','r','y'] # Color of each section\n",
    "textprops = {\"fontsize\":15} # Font size of text in pie chart\n",
    " \n",
    "plt.pie(Quantity, # Values\n",
    "        labels = species, # Labels for each sections\n",
    "        explode = explode, # To slice the perticuler section\n",
    "        colors =colors, # Color of each section\n",
    "        autopct = \"%0.2f%%\", # Show data in persentage for with 2 decimal point\n",
    "        shadow = True, # Showing shadow of pie chart\n",
    "        radius = 1.4, # Radius to increase or decrease the size of pie chart \n",
    "       startangle = 270, # Start angle of first section\n",
    "        textprops =textprops) \n",
    "plt.legend() # To show legend\n",
    "plt.show() # To show pie chart only"
   ]
  },
  {
   "cell_type": "code",
   "execution_count": null,
   "metadata": {},
   "outputs": [],
   "source": []
  }
 ],
 "metadata": {
  "kernelspec": {
   "display_name": "Python 3",
   "language": "python",
   "name": "python3"
  },
  "language_info": {
   "codemirror_mode": {
    "name": "ipython",
    "version": 3
   },
   "file_extension": ".py",
   "mimetype": "text/x-python",
   "name": "python",
   "nbconvert_exporter": "python",
   "pygments_lexer": "ipython3",
   "version": "3.7.6"
  }
 },
 "nbformat": 4,
 "nbformat_minor": 4
}
